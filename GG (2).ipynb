{
  "nbformat": 4,
  "nbformat_minor": 0,
  "metadata": {
    "colab": {
      "provenance": [],
      "gpuType": "T4"
    },
    "kernelspec": {
      "name": "python3",
      "display_name": "Python 3"
    },
    "language_info": {
      "name": "python"
    },
    "accelerator": "GPU"
  },
  "cells": [
    {
      "cell_type": "markdown",
      "source": [
        "Мы исползовали FFmpeg для нахождения аномальных фреймов без декодирования."
      ],
      "metadata": {
        "id": "eORRjjNQBMxv"
      }
    },
    {
      "cell_type": "code",
      "source": [
        "!pip install FFmpeg"
      ],
      "metadata": {
        "colab": {
          "base_uri": "https://localhost:8080/"
        },
        "id": "SctL_tdiE_so",
        "outputId": "9a784255-701e-4da8-d744-2fdb451e8785"
      },
      "execution_count": 25,
      "outputs": [
        {
          "output_type": "stream",
          "name": "stdout",
          "text": [
            "Collecting FFmpeg\n",
            "  Downloading ffmpeg-1.4.tar.gz (5.1 kB)\n",
            "  Preparing metadata (setup.py) ... \u001b[?25l\u001b[?25hdone\n",
            "Building wheels for collected packages: FFmpeg\n",
            "  Building wheel for FFmpeg (setup.py) ... \u001b[?25l\u001b[?25hdone\n",
            "  Created wheel for FFmpeg: filename=ffmpeg-1.4-py3-none-any.whl size=6082 sha256=00e5ab1e7c1ba9e753280df9539f88080df4aa971b2d97bd54b7bc9196051d31\n",
            "  Stored in directory: /root/.cache/pip/wheels/8e/7a/69/cd6aeb83b126a7f04cbe7c9d929028dc52a6e7d525ff56003a\n",
            "Successfully built FFmpeg\n",
            "Installing collected packages: FFmpeg\n",
            "Successfully installed FFmpeg-1.4\n"
          ]
        }
      ]
    },
    {
      "cell_type": "code",
      "source": [
        "!ffmpeg -i 3.mp4 -vf \"select='gt(scene,0.1)',metadata=print:file=time6.txt\" -vsync vfr -frame_pts true out_t/%03d.jpg"
      ],
      "metadata": {
        "id": "6mJZXxHMBKx8"
      },
      "execution_count": null,
      "outputs": []
    },
    {
      "cell_type": "markdown",
      "source": [
        "Далее jpeg полученных фреймов склеивались для дальнейшего обучения YOLOv8x-cls."
      ],
      "metadata": {
        "id": "00bfgHYwBNuE"
      }
    },
    {
      "cell_type": "code",
      "source": [
        "from PIL import Image\n",
        "import os\n",
        "\n",
        "path = 'C:/c++/out/'\n",
        "output_path = 'C:/c++/Train/combined_out/'\n",
        "\n",
        "files = os.listdir(path)\n",
        "files.sort()\n",
        "\n",
        "\n",
        "for i in range(len(files)):\n",
        "    if i == 0:\n",
        "        continue\n",
        "\n",
        "    img1 = Image.open(path + files[i-1])\n",
        "    img2 = Image.open(path + files[i])\n",
        "\n",
        "    if i < len(files) - 1:\n",
        "        img3 = Image.open(path + files[i+1])\n",
        "        combined_img = Image.new('RGB', (img1.width + img2.width + img3.width, max(img1.height, img2.height, img3.height)))\n",
        "        combined_img.paste(img1, (0, 0))\n",
        "        combined_img.paste(img2, (img1.width, 0))\n",
        "        combined_img.paste(img3, (img1.width + img2.width, 0))\n",
        "    else:\n",
        "        combined_img = Image.new('RGB', (img1.width + img2.width, max(img1.height, img2.height)))\n",
        "        combined_img.paste(img1, (0, 0))\n",
        "        combined_img.paste(img2, (img1.width, 0))\n",
        "\n",
        "    combined_img.save(output_path + files[i])"
      ],
      "metadata": {
        "id": "f4bbmM-xBOFO"
      },
      "execution_count": null,
      "outputs": []
    },
    {
      "cell_type": "code",
      "execution_count": null,
      "metadata": {
        "id": "nnhEHMHflNwL"
      },
      "outputs": [],
      "source": [
        "!pip install ultralytics"
      ]
    },
    {
      "cell_type": "code",
      "source": [
        "from ultralytics import YOLO\n",
        "\n",
        "# Load a model# build a new model from YAML\n",
        "model = YOLO('yolov8x-cls.pt')"
      ],
      "metadata": {
        "colab": {
          "base_uri": "https://localhost:8080/"
        },
        "id": "A2EH83bKmEkE",
        "outputId": "4d1a8df1-7266-4d97-d730-83f7d740c8a6"
      },
      "execution_count": 2,
      "outputs": [
        {
          "output_type": "stream",
          "name": "stdout",
          "text": [
            "Downloading https://github.com/ultralytics/assets/releases/download/v8.1.0/yolov8x-cls.pt to 'yolov8x-cls.pt'...\n"
          ]
        },
        {
          "output_type": "stream",
          "name": "stderr",
          "text": [
            "100%|██████████| 110M/110M [00:00<00:00, 160MB/s] \n"
          ]
        }
      ]
    },
    {
      "cell_type": "markdown",
      "source": [
        "Скачиваем размеченный датасет"
      ],
      "metadata": {
        "id": "W1BGVlHFCZJK"
      }
    },
    {
      "cell_type": "code",
      "source": [
        "!pip install roboflow\n",
        "\n",
        "from roboflow import Roboflow\n",
        "rf = Roboflow(api_key=\"*******************\")\n",
        "project = rf.workspace(\"vhs-xmi5g\").project(\"gh_vhs\")\n",
        "version = project.version(1)\n",
        "dataset = version.download(\"folder\")\n"
      ],
      "metadata": {
        "id": "2ZTbuwC7loZW"
      },
      "execution_count": null,
      "outputs": []
    },
    {
      "cell_type": "markdown",
      "source": [
        "Обучаем модель без цветных аугментаций"
      ],
      "metadata": {
        "id": "W-S-n82WCjz4"
      }
    },
    {
      "cell_type": "code",
      "source": [
        "results = model('/content/GH_vhs-2/valid/focus')\n",
        "results = model('/content/GH_vhs-2/valid/focus')\n",
        "results = model('/content/GH_vhs-2/valid/focus')\n"
      ],
      "metadata": {
        "colab": {
          "base_uri": "https://localhost:8080/"
        },
        "id": "Fkhsmg1ww0na",
        "outputId": "843c1782-ac86-46ff-c396-249dbda19a82"
      },
      "execution_count": 24,
      "outputs": [
        {
          "output_type": "stream",
          "name": "stdout",
          "text": [
            "\n",
            "image 1/20 /content/GH_vhs-2/valid/focus/1056_jpg.rf.c4ffc12c8f4181ba7a20ad7ce052039b.jpg: 640x640 focus 0.96, move 0.04, overlap 0.00, flash 0.00, 61.7ms\n",
            "image 2/20 /content/GH_vhs-2/valid/focus/2048_jpg.rf.95b2b492ebba1fb929992617b54d1abe.jpg: 640x640 focus 0.72, move 0.28, overlap 0.00, flash 0.00, 61.5ms\n",
            "image 3/20 /content/GH_vhs-2/valid/focus/2272_jpg.rf.411a247611531ed8b5a3a2051f878e81.jpg: 640x640 focus 0.77, move 0.22, overlap 0.00, flash 0.00, 61.5ms\n",
            "image 4/20 /content/GH_vhs-2/valid/focus/2304_jpg.rf.6758cf09c8a424275cff9508ae9700bf.jpg: 640x640 focus 0.78, move 0.22, overlap 0.00, flash 0.00, 36.8ms\n",
            "image 5/20 /content/GH_vhs-2/valid/focus/2464_jpg.rf.d9284fa024a7fe08bb79aea7a0ab5267.jpg: 640x640 focus 0.65, move 0.34, flash 0.00, overlap 0.00, 36.4ms\n",
            "image 6/20 /content/GH_vhs-2/valid/focus/2560_jpg.rf.83645e73aad0cdfb61e83ee383fe1640.jpg: 640x640 focus 0.93, move 0.07, overlap 0.00, flash 0.00, 35.1ms\n",
            "image 7/20 /content/GH_vhs-2/valid/focus/2624_jpg.rf.cc6aadede85036d84bd77095bb339648.jpg: 640x640 focus 1.00, move 0.00, overlap 0.00, flash 0.00, 36.0ms\n",
            "image 8/20 /content/GH_vhs-2/valid/focus/2688_jpg.rf.b9d4b2659f9d4082f20485c06da7a9c8.jpg: 640x640 focus 1.00, move 0.00, overlap 0.00, flash 0.00, 38.6ms\n",
            "image 9/20 /content/GH_vhs-2/valid/focus/2752_jpg.rf.bad759a30c2a4fb6a5467390d35091b1.jpg: 640x640 focus 1.00, move 0.00, overlap 0.00, flash 0.00, 35.6ms\n",
            "image 10/20 /content/GH_vhs-2/valid/focus/2783_jpg.rf.755b7210b2173f01b42489e7df3720ea.jpg: 640x640 focus 1.00, move 0.00, overlap 0.00, flash 0.00, 36.5ms\n",
            "image 11/20 /content/GH_vhs-2/valid/focus/3103_jpg.rf.5e0105229150d2f1953284042c50bda3.jpg: 640x640 focus 0.94, move 0.06, overlap 0.00, flash 0.00, 35.8ms\n",
            "image 12/20 /content/GH_vhs-2/valid/focus/3135_jpg.rf.586ca1b4e48fb381ee3ff57af3875801.jpg: 640x640 focus 0.88, move 0.12, overlap 0.00, flash 0.00, 36.6ms\n",
            "image 13/20 /content/GH_vhs-2/valid/focus/512_jpg.rf.7447228b8dda69e0e46df15321346027.jpg: 640x640 focus 0.66, move 0.34, overlap 0.00, flash 0.00, 35.1ms\n",
            "image 14/20 /content/GH_vhs-2/valid/focus/544_jpg.rf.b860a46c9e9441df473bdcddff01759b.jpg: 640x640 focus 0.85, move 0.15, overlap 0.00, flash 0.00, 36.7ms\n",
            "image 15/20 /content/GH_vhs-2/valid/focus/64_jpg.rf.ecc6d3c22bd1de468af475a8bafbccd6.jpg: 640x640 focus 0.92, move 0.07, overlap 0.00, flash 0.00, 36.2ms\n",
            "image 16/20 /content/GH_vhs-2/valid/focus/672_jpg.rf.f42d2c215138d16e88d8707636ba4bbe.jpg: 640x640 focus 1.00, move 0.00, overlap 0.00, flash 0.00, 35.8ms\n",
            "image 17/20 /content/GH_vhs-2/valid/focus/736_jpg.rf.573c78e61f2ac18e984b6392d7b7730d.jpg: 640x640 focus 1.00, move 0.00, overlap 0.00, flash 0.00, 36.7ms\n",
            "image 18/20 /content/GH_vhs-2/valid/focus/832_jpg.rf.072c8af9d3edb2d00f85317d4ece9c28.jpg: 640x640 focus 1.00, move 0.00, overlap 0.00, flash 0.00, 36.0ms\n",
            "image 19/20 /content/GH_vhs-2/valid/focus/960_jpg.rf.1281f50655f6cb20e09e043d128b67fd.jpg: 640x640 focus 0.98, move 0.02, overlap 0.00, flash 0.00, 36.9ms\n",
            "image 20/20 /content/GH_vhs-2/valid/focus/96_jpg.rf.716a545d5f02d08ef697675cddeeb699.jpg: 640x640 focus 0.98, move 0.02, overlap 0.00, flash 0.00, 35.7ms\n",
            "Speed: 9.3ms preprocess, 40.1ms inference, 0.1ms postprocess per image at shape (1, 3, 640, 640)\n",
            "\n",
            "image 1/3 /content/GH_vhs-2/valid/move/11383_jpg.rf.03c6f2aa6cce87fb4d3ef18b7fcf3b77.jpg: 640x640 move 1.00, overlap 0.00, focus 0.00, flash 0.00, 36.8ms\n",
            "image 2/3 /content/GH_vhs-2/valid/move/12708_jpg.rf.9c31b049fe9e428d9ced5f47f59cccca.jpg: 640x640 move 0.99, overlap 0.01, focus 0.00, flash 0.00, 37.7ms\n",
            "image 3/3 /content/GH_vhs-2/valid/move/89_jpg.rf.aa06d01814873dc56e586b43556ea603.jpg: 640x640 move 0.95, focus 0.03, overlap 0.02, flash 0.00, 36.2ms\n",
            "Speed: 9.0ms preprocess, 36.9ms inference, 0.1ms postprocess per image at shape (1, 3, 640, 640)\n",
            "\n",
            "image 1/9 /content/GH_vhs-2/valid/flash/1617_jpg.rf.40ef10a0da1264aca0521387e75bdbb7.jpg: 640x640 flash 0.99, overlap 0.01, focus 0.00, move 0.00, 35.4ms\n",
            "image 2/9 /content/GH_vhs-2/valid/flash/1625_jpg.rf.1ba69271998a6b726ede83fb564b310a.jpg: 640x640 flash 0.97, overlap 0.03, focus 0.00, move 0.00, 36.8ms\n",
            "image 3/9 /content/GH_vhs-2/valid/flash/1643_jpg.rf.d0d45b57cf47e136f82b1871f21c5175.jpg: 640x640 flash 0.96, overlap 0.04, focus 0.00, move 0.00, 36.3ms\n",
            "image 4/9 /content/GH_vhs-2/valid/flash/1657_jpg.rf.685fcbc2129de32e70d6d363840be30e.jpg: 640x640 flash 0.96, overlap 0.04, focus 0.00, move 0.00, 36.3ms\n",
            "image 5/9 /content/GH_vhs-2/valid/flash/704_jpg.rf.65faba5fa53635057344d1e75bfdbab1.jpg: 640x640 flash 1.00, overlap 0.00, move 0.00, focus 0.00, 36.8ms\n",
            "image 6/9 /content/GH_vhs-2/valid/flash/710_jpg.rf.6431299e8e73850dcd97f6805cc9b948.jpg: 640x640 flash 0.99, overlap 0.01, move 0.00, focus 0.00, 36.6ms\n",
            "image 7/9 /content/GH_vhs-2/valid/flash/730_jpg.rf.055477882f55f109e68f410d6fbaf428.jpg: 640x640 flash 0.98, overlap 0.02, focus 0.00, move 0.00, 35.9ms\n",
            "image 8/9 /content/GH_vhs-2/valid/flash/732_jpg.rf.47da43a8be3b5e1cfc31f6d57ae05cdd.jpg: 640x640 flash 0.98, overlap 0.02, focus 0.00, move 0.00, 37.0ms\n",
            "image 9/9 /content/GH_vhs-2/valid/flash/739_jpg.rf.7eea56f178b6d5e13489f0f987e71e1b.jpg: 640x640 flash 0.98, overlap 0.02, move 0.00, focus 0.00, 34.7ms\n",
            "Speed: 9.3ms preprocess, 36.2ms inference, 0.1ms postprocess per image at shape (1, 3, 640, 640)\n",
            "\n",
            "image 1/60 /content/GH_vhs-2/valid/overlap/1380_jpg.rf.e02d685af9ff0d8f0894029b9388b9b6.jpg: 640x640 overlap 0.97, flash 0.03, move 0.00, focus 0.00, 34.7ms\n",
            "image 2/60 /content/GH_vhs-2/valid/overlap/1388_jpg.rf.605b7370156c1101f0073398873ad531.jpg: 640x640 overlap 1.00, flash 0.00, move 0.00, focus 0.00, 36.5ms\n",
            "image 3/60 /content/GH_vhs-2/valid/overlap/1394_jpg.rf.179cf9af504abc24aee9fe882b480c66.jpg: 640x640 overlap 1.00, flash 0.00, move 0.00, focus 0.00, 36.9ms\n",
            "image 4/60 /content/GH_vhs-2/valid/overlap/1401_jpg.rf.79a1850db35ed640ebda6fb786af029d.jpg: 640x640 overlap 1.00, move 0.00, flash 0.00, focus 0.00, 35.8ms\n",
            "image 5/60 /content/GH_vhs-2/valid/overlap/1426_jpg.rf.27870b0e77d45922e8574c815dc0d21b.jpg: 640x640 overlap 1.00, move 0.00, flash 0.00, focus 0.00, 36.8ms\n",
            "image 6/60 /content/GH_vhs-2/valid/overlap/1452_jpg.rf.a9973cb682cdb26f72a60d70a65fd933.jpg: 640x640 overlap 1.00, move 0.00, flash 0.00, focus 0.00, 37.3ms\n",
            "image 7/60 /content/GH_vhs-2/valid/overlap/1457_jpg.rf.3aebe716d7c90dbacb841d5985b3bfb7.jpg: 640x640 overlap 1.00, move 0.00, flash 0.00, focus 0.00, 35.8ms\n",
            "image 8/60 /content/GH_vhs-2/valid/overlap/1463_jpg.rf.aa014210d6a4d5b363e001a7521b3f61.jpg: 640x640 overlap 1.00, move 0.00, flash 0.00, focus 0.00, 36.3ms\n",
            "image 9/60 /content/GH_vhs-2/valid/overlap/1472_jpg.rf.7796672a89324375046b585baec0a7e2.jpg: 640x640 overlap 1.00, flash 0.00, focus 0.00, move 0.00, 35.8ms\n",
            "image 10/60 /content/GH_vhs-2/valid/overlap/1477_jpg.rf.2e52d86e79a34762a8b46da89af896b5.jpg: 640x640 overlap 1.00, flash 0.00, move 0.00, focus 0.00, 36.6ms\n",
            "image 11/60 /content/GH_vhs-2/valid/overlap/1492_jpg.rf.9719b494c2376f26589fb33f3264e6d3.jpg: 640x640 overlap 1.00, focus 0.00, move 0.00, flash 0.00, 36.0ms\n",
            "image 12/60 /content/GH_vhs-2/valid/overlap/1500_jpg.rf.0ff0e8b70f24b550eb78a1d7310f5d3b.jpg: 640x640 overlap 1.00, flash 0.00, move 0.00, focus 0.00, 36.8ms\n",
            "image 13/60 /content/GH_vhs-2/valid/overlap/1514_jpg.rf.de8f18c327e69cf4c63e58f0449c9eb3.jpg: 640x640 overlap 1.00, focus 0.00, move 0.00, flash 0.00, 36.9ms\n",
            "image 14/60 /content/GH_vhs-2/valid/overlap/1522_jpg.rf.5e6369c322cfeb1087a53dca41ed707a.jpg: 640x640 overlap 1.00, focus 0.00, move 0.00, flash 0.00, 35.1ms\n",
            "image 15/60 /content/GH_vhs-2/valid/overlap/1551_jpg.rf.3f15d689167231fa7ffc39a988a23709.jpg: 640x640 overlap 1.00, move 0.00, focus 0.00, flash 0.00, 37.3ms\n",
            "image 16/60 /content/GH_vhs-2/valid/overlap/1565_jpg.rf.ef8bb0f18921f6cfd8adeffb762aa9c6.jpg: 640x640 overlap 1.00, focus 0.00, move 0.00, flash 0.00, 37.5ms\n",
            "image 17/60 /content/GH_vhs-2/valid/overlap/1570_jpg.rf.4cc81ec847a0b76308c79089ec3e3ecd.jpg: 640x640 overlap 1.00, focus 0.00, move 0.00, flash 0.00, 36.2ms\n",
            "image 18/60 /content/GH_vhs-2/valid/overlap/1574_jpg.rf.61243cfadcb4dfe30f155d4d0fcf98c9.jpg: 640x640 overlap 1.00, focus 0.00, flash 0.00, move 0.00, 37.2ms\n",
            "image 19/60 /content/GH_vhs-2/valid/overlap/1576_jpg.rf.6978b78453094531638ae68971265a75.jpg: 640x640 overlap 1.00, focus 0.00, flash 0.00, move 0.00, 37.3ms\n",
            "image 20/60 /content/GH_vhs-2/valid/overlap/1582_jpg.rf.471af3672e3b2fa9372658105d9db7b1.jpg: 640x640 overlap 1.00, focus 0.00, move 0.00, flash 0.00, 36.8ms\n",
            "image 21/60 /content/GH_vhs-2/valid/overlap/1587_jpg.rf.fe0253603d774cad320d34827eb062b9.jpg: 640x640 overlap 1.00, focus 0.00, flash 0.00, move 0.00, 36.5ms\n",
            "image 22/60 /content/GH_vhs-2/valid/overlap/1605_jpg.rf.ed19e5551de94e9b2f7a63fc33020164.jpg: 640x640 overlap 1.00, flash 0.00, focus 0.00, move 0.00, 37.3ms\n",
            "image 23/60 /content/GH_vhs-2/valid/overlap/1607_jpg.rf.3e966d6e8aadb69fe46f186428c9281d.jpg: 640x640 overlap 1.00, flash 0.00, move 0.00, focus 0.00, 36.2ms\n",
            "image 24/60 /content/GH_vhs-2/valid/overlap/16724_jpg.rf.103a6ae0f73c568b5d81b56a5943eeb9.jpg: 640x640 overlap 1.00, flash 0.00, move 0.00, focus 0.00, 36.7ms\n",
            "image 25/60 /content/GH_vhs-2/valid/overlap/425_jpg.rf.1a348f614ad91d138a30ca3086f71e00.jpg: 640x640 overlap 0.82, flash 0.18, move 0.00, focus 0.00, 38.6ms\n",
            "image 26/60 /content/GH_vhs-2/valid/overlap/4365_jpg.rf.5806fd4125cf916f02632e7dc1fc7bdf.jpg: 640x640 overlap 1.00, flash 0.00, move 0.00, focus 0.00, 37.0ms\n",
            "image 27/60 /content/GH_vhs-2/valid/overlap/4374_jpg.rf.ed2ff67dc502d298c31e362a754e26dd.jpg: 640x640 overlap 1.00, flash 0.00, focus 0.00, move 0.00, 36.9ms\n",
            "image 28/60 /content/GH_vhs-2/valid/overlap/4401_jpg.rf.766279bb18fd0adc80dc45f0d849caa2.jpg: 640x640 overlap 1.00, flash 0.00, focus 0.00, move 0.00, 37.9ms\n",
            "image 29/60 /content/GH_vhs-2/valid/overlap/4413_jpg.rf.84ade1dd41ec5e64d176ba1bf5123efd.jpg: 640x640 overlap 1.00, flash 0.00, focus 0.00, move 0.00, 37.3ms\n",
            "image 30/60 /content/GH_vhs-2/valid/overlap/4416_jpg.rf.0b08f530f7e9667bba54486be6ba6bf2.jpg: 640x640 overlap 1.00, flash 0.00, focus 0.00, move 0.00, 37.0ms\n",
            "image 31/60 /content/GH_vhs-2/valid/overlap/4430_jpg.rf.b087cfab8df718aedb69031aa1bfda23.jpg: 640x640 overlap 1.00, flash 0.00, focus 0.00, move 0.00, 37.8ms\n",
            "image 32/60 /content/GH_vhs-2/valid/overlap/4443_jpg.rf.cf4f5963680725febdb94559d609f275.jpg: 640x640 overlap 1.00, flash 0.00, focus 0.00, move 0.00, 36.6ms\n",
            "image 33/60 /content/GH_vhs-2/valid/overlap/4449_jpg.rf.005dbffef6fec10c61e9fbc76ba72feb.jpg: 640x640 overlap 1.00, flash 0.00, focus 0.00, move 0.00, 37.4ms\n",
            "image 34/60 /content/GH_vhs-2/valid/overlap/4458_jpg.rf.35a5361bd679024cdee705af13a8fe44.jpg: 640x640 overlap 1.00, flash 0.00, focus 0.00, move 0.00, 37.2ms\n",
            "image 35/60 /content/GH_vhs-2/valid/overlap/4460_jpg.rf.d5f714cec3a2e31b556d0b8f6b2e8432.jpg: 640x640 overlap 1.00, flash 0.00, focus 0.00, move 0.00, 37.1ms\n",
            "image 36/60 /content/GH_vhs-2/valid/overlap/4468_jpg.rf.e0909590d8aecfe41fd609bdc4b94ec5.jpg: 640x640 overlap 1.00, flash 0.00, focus 0.00, move 0.00, 38.7ms\n",
            "image 37/60 /content/GH_vhs-2/valid/overlap/4506_jpg.rf.f9ca1080e1e2335d46c2022e40e4c07f.jpg: 640x640 overlap 1.00, flash 0.00, focus 0.00, move 0.00, 39.4ms\n",
            "image 38/60 /content/GH_vhs-2/valid/overlap/4528_jpg.rf.65ac20e64d3819ed35ac6eba757828e8.jpg: 640x640 overlap 1.00, flash 0.00, focus 0.00, move 0.00, 33.1ms\n",
            "image 39/60 /content/GH_vhs-2/valid/overlap/4533_jpg.rf.15d4f2811ffb7c27b7c3fac4df698721.jpg: 640x640 overlap 1.00, flash 0.00, focus 0.00, move 0.00, 35.3ms\n",
            "image 40/60 /content/GH_vhs-2/valid/overlap/4553_jpg.rf.4156176b5c0001814f9b2c1abed239b1.jpg: 640x640 overlap 1.00, flash 0.00, focus 0.00, move 0.00, 35.3ms\n",
            "image 41/60 /content/GH_vhs-2/valid/overlap/4585_jpg.rf.48b174680fa2ab44117c02aebd3b56e6.jpg: 640x640 overlap 1.00, flash 0.00, focus 0.00, move 0.00, 35.4ms\n",
            "image 42/60 /content/GH_vhs-2/valid/overlap/4599_jpg.rf.64219dbdfbc16972da98bf92202da19b.jpg: 640x640 overlap 1.00, flash 0.00, focus 0.00, move 0.00, 35.4ms\n",
            "image 43/60 /content/GH_vhs-2/valid/overlap/4607_jpg.rf.e262ec11a17216f6ebefcda59f237315.jpg: 640x640 overlap 1.00, flash 0.00, focus 0.00, move 0.00, 35.9ms\n",
            "image 44/60 /content/GH_vhs-2/valid/overlap/4610_jpg.rf.053164fb4b67f0730ce5668905ed0330.jpg: 640x640 overlap 1.00, flash 0.00, focus 0.00, move 0.00, 36.3ms\n",
            "image 45/60 /content/GH_vhs-2/valid/overlap/4614_jpg.rf.b08af496c48d0a43e443bda7785e4014.jpg: 640x640 overlap 1.00, flash 0.00, focus 0.00, move 0.00, 35.1ms\n",
            "image 46/60 /content/GH_vhs-2/valid/overlap/4626_jpg.rf.08e40b6609536f05bc33a5e7973baa76.jpg: 640x640 overlap 1.00, flash 0.00, focus 0.00, move 0.00, 35.3ms\n",
            "image 47/60 /content/GH_vhs-2/valid/overlap/4875_jpg.rf.ddb8cfecfe87b3d55b884a2edf4fd5b8.jpg: 640x640 overlap 1.00, flash 0.00, move 0.00, focus 0.00, 34.7ms\n",
            "image 48/60 /content/GH_vhs-2/valid/overlap/507_jpg.rf.5c0aa1534ac22ba5662c979bcfca9469.jpg: 640x640 overlap 1.00, move 0.00, flash 0.00, focus 0.00, 35.2ms\n",
            "image 49/60 /content/GH_vhs-2/valid/overlap/541_jpg.rf.00aae420cf594cb2edfae43dd7366bde.jpg: 640x640 overlap 1.00, move 0.00, flash 0.00, focus 0.00, 35.7ms\n",
            "image 50/60 /content/GH_vhs-2/valid/overlap/544_jpg.rf.f84a3b3ae090aa11b52c864861971795.jpg: 640x640 overlap 1.00, move 0.00, flash 0.00, focus 0.00, 35.9ms\n",
            "image 51/60 /content/GH_vhs-2/valid/overlap/552_jpg.rf.2485b62ba36a76ed747bb982bf2179b8.jpg: 640x640 overlap 1.00, flash 0.00, move 0.00, focus 0.00, 35.0ms\n",
            "image 52/60 /content/GH_vhs-2/valid/overlap/577_jpg.rf.7fb4418553628eb8ad6ae66140862f76.jpg: 640x640 overlap 1.00, flash 0.00, move 0.00, focus 0.00, 37.3ms\n",
            "image 53/60 /content/GH_vhs-2/valid/overlap/612_jpg.rf.27f690dba781f24c78c0a9f68e036228.jpg: 640x640 overlap 1.00, flash 0.00, move 0.00, focus 0.00, 34.7ms\n",
            "image 54/60 /content/GH_vhs-2/valid/overlap/614_jpg.rf.5e7901278dcc2bc9af6098a6abc57df2.jpg: 640x640 overlap 1.00, flash 0.00, move 0.00, focus 0.00, 35.4ms\n",
            "image 55/60 /content/GH_vhs-2/valid/overlap/616_jpg.rf.ea80a5b4d5116905144812d372e608f4.jpg: 640x640 overlap 1.00, flash 0.00, move 0.00, focus 0.00, 34.2ms\n",
            "image 56/60 /content/GH_vhs-2/valid/overlap/627_jpg.rf.429e77c0f47e874eb2d8a1b57ec1fd47.jpg: 640x640 overlap 1.00, flash 0.00, focus 0.00, move 0.00, 37.0ms\n",
            "image 57/60 /content/GH_vhs-2/valid/overlap/632_jpg.rf.c5b8c4b767acf17fc211f7ad47a348d8.jpg: 640x640 overlap 1.00, flash 0.00, move 0.00, focus 0.00, 36.9ms\n",
            "image 58/60 /content/GH_vhs-2/valid/overlap/651_jpg.rf.831acde9579dd52e6f16b9d7fda8b0c6.jpg: 640x640 overlap 1.00, flash 0.00, move 0.00, focus 0.00, 36.9ms\n",
            "image 59/60 /content/GH_vhs-2/valid/overlap/661_jpg.rf.8ae7e2fe3720b46748ae9ce9df7948f3.jpg: 640x640 overlap 1.00, flash 0.00, move 0.00, focus 0.00, 35.2ms\n",
            "image 60/60 /content/GH_vhs-2/valid/overlap/673_jpg.rf.385ae39235506678b0183eacc0097761.jpg: 640x640 overlap 1.00, flash 0.00, move 0.00, focus 0.00, 36.3ms\n",
            "Speed: 9.6ms preprocess, 36.4ms inference, 0.1ms postprocess per image at shape (1, 3, 640, 640)\n"
          ]
        }
      ]
    },
    {
      "cell_type": "code",
      "source": [
        "!ffmpeg -i 4.mp4 -vf \"select='gt(scene,0.06)',metadata=print:file=time6.txt\" -vsync vfr -frame_pts true out_tt/%03d.jpg"
      ],
      "metadata": {
        "colab": {
          "base_uri": "https://localhost:8080/"
        },
        "id": "J4P-r-vFESyx",
        "outputId": "2988c74a-f0d4-4e31-fe8c-b71b3d4f645f"
      },
      "execution_count": 54,
      "outputs": [
        {
          "output_type": "stream",
          "name": "stdout",
          "text": [
            "ffmpeg version 4.4.2-0ubuntu0.22.04.1 Copyright (c) 2000-2021 the FFmpeg developers\n",
            "  built with gcc 11 (Ubuntu 11.2.0-19ubuntu1)\n",
            "  configuration: --prefix=/usr --extra-version=0ubuntu0.22.04.1 --toolchain=hardened --libdir=/usr/lib/x86_64-linux-gnu --incdir=/usr/include/x86_64-linux-gnu --arch=amd64 --enable-gpl --disable-stripping --enable-gnutls --enable-ladspa --enable-libaom --enable-libass --enable-libbluray --enable-libbs2b --enable-libcaca --enable-libcdio --enable-libcodec2 --enable-libdav1d --enable-libflite --enable-libfontconfig --enable-libfreetype --enable-libfribidi --enable-libgme --enable-libgsm --enable-libjack --enable-libmp3lame --enable-libmysofa --enable-libopenjpeg --enable-libopenmpt --enable-libopus --enable-libpulse --enable-librabbitmq --enable-librubberband --enable-libshine --enable-libsnappy --enable-libsoxr --enable-libspeex --enable-libsrt --enable-libssh --enable-libtheora --enable-libtwolame --enable-libvidstab --enable-libvorbis --enable-libvpx --enable-libwebp --enable-libx265 --enable-libxml2 --enable-libxvid --enable-libzimg --enable-libzmq --enable-libzvbi --enable-lv2 --enable-omx --enable-openal --enable-opencl --enable-opengl --enable-sdl2 --enable-pocketsphinx --enable-librsvg --enable-libmfx --enable-libdc1394 --enable-libdrm --enable-libiec61883 --enable-chromaprint --enable-frei0r --enable-libx264 --enable-shared\n",
            "  libavutil      56. 70.100 / 56. 70.100\n",
            "  libavcodec     58.134.100 / 58.134.100\n",
            "  libavformat    58. 76.100 / 58. 76.100\n",
            "  libavdevice    58. 13.100 / 58. 13.100\n",
            "  libavfilter     7.110.100 /  7.110.100\n",
            "  libswscale      5.  9.100 /  5.  9.100\n",
            "  libswresample   3.  9.100 /  3.  9.100\n",
            "  libpostproc    55.  9.100 / 55.  9.100\n",
            "Input #0, mov,mp4,m4a,3gp,3g2,mj2, from '4.mp4':\n",
            "  Metadata:\n",
            "    major_brand     : isom\n",
            "    minor_version   : 0\n",
            "    compatible_brands: mp41avc1\n",
            "    creation_time   : 2024-04-11T14:59:43.000000Z\n",
            "    encoder         : vlc 3.0.18 stream output\n",
            "    encoder-eng     : vlc 3.0.18 stream output\n",
            "  Duration: 00:04:58.48, start: 0.000000, bitrate: 1750 kb/s\n",
            "  Stream #0:0(eng): Video: h264 (Main) (avc1 / 0x31637661), yuvj420p(pc, bt709), 1920x1080 [SAR 1:1 DAR 16:9], 1749 kb/s, 24.98 fps, 25 tbr, 90k tbn, 50 tbc (default)\n",
            "    Metadata:\n",
            "      creation_time   : 2024-04-11T14:59:43.000000Z\n",
            "      handler_name    : VideoHandler\n",
            "      vendor_id       : [0][0][0][0]\n",
            "Stream mapping:\n",
            "  Stream #0:0 -> #0:0 (h264 (native) -> mjpeg (native))\n",
            "Press [q] to stop, [?] for help\n",
            "Output #0, image2, to 'out_tt/%03d.jpg':\n",
            "  Metadata:\n",
            "    major_brand     : isom\n",
            "    minor_version   : 0\n",
            "    compatible_brands: mp41avc1\n",
            "    encoder         : Lavf58.76.100\n",
            "  Stream #0:0(eng): Video: mjpeg, yuvj420p(pc, bt709, progressive), 1920x1080 [SAR 1:1 DAR 16:9], q=2-31, 200 kb/s, 25 fps, 25 tbn (default)\n",
            "    Metadata:\n",
            "      creation_time   : 2024-04-11T14:59:43.000000Z\n",
            "      handler_name    : VideoHandler\n",
            "      vendor_id       : [0][0][0][0]\n",
            "      encoder         : Lavc58.134.100 mjpeg\n",
            "    Side data:\n",
            "      cpb: bitrate max/min/avg: 0/0/200000 buffer size: 0 vbv_delay: N/A\n",
            "\u001b[0;36m[h264 @ 0x5cac37f6b380] \u001b[0m\u001b[1;31merror while decoding MB 26 62, bytestream -7\n",
            "\u001b[0m\u001b[0;36m[h264 @ 0x5cac37f6b380] \u001b[0mconcealing 743 DC, 743 AC, 743 MV errors in P frame\n",
            "\u001b[0;33m4.mp4: corrupt decoded frame in stream 0\n",
            "\u001b[0;36m[h264 @ 0x5cac37edd5c0] \u001b[0mconcealing 7135 DC, 7135 AC, 7135 MV errors in P frame\n",
            "\u001b[0;33m4.mp4: corrupt decoded frame in stream 0\n",
            "\u001b[0m\u001b[0;36m[h264 @ 0x5cac37efdf40] \u001b[0mconcealing 5028 DC, 5028 AC, 5028 MV errors in P frame\n",
            "\u001b[0;33m4.mp4: corrupt decoded frame in stream 0\n",
            "\u001b[0m\u001b[0;36m[h264 @ 0x5cac37f6b380] \u001b[0mconcealing 7364 DC, 7364 AC, 7364 MV errors in P frame\n",
            "\u001b[0;33m4.mp4: corrupt decoded frame in stream 0\n",
            "\u001b[0;36m[h264 @ 0x5cac37efdf40] \u001b[0mconcealing 2209 DC, 2209 AC, 2209 MV errors in I frame\n",
            "\u001b[0;33m4.mp4: corrupt decoded frame in stream 0\n",
            "\u001b[0;36m[h264 @ 0x5cac37f6b380] \u001b[0m\u001b[1;31mleft block unavailable for requested intra4x4 mode -1\n",
            "\u001b[0m\u001b[0;36m[h264 @ 0x5cac37f6b380] \u001b[0m\u001b[1;31merror while decoding MB 0 26, bytestream 117019\n",
            "\u001b[0m\u001b[0;36m[h264 @ 0x5cac37f6b380] \u001b[0mconcealing 5089 DC, 5089 AC, 5089 MV errors in I frame\n",
            "\u001b[0;33m4.mp4: corrupt decoded frame in stream 0\n",
            "\u001b[0;36m[h264 @ 0x5cac37efdf40] \u001b[0m\u001b[1;31merror while decoding MB 36 52, bytestream -5\n",
            "\u001b[0m\u001b[0;36m[h264 @ 0x5cac37efdf40] \u001b[0mconcealing 1933 DC, 1933 AC, 1933 MV errors in P frame\n",
            "\u001b[0;33m4.mp4: corrupt decoded frame in stream 0\n",
            "frame=   95 fps=3.3 q=24.8 Lsize=N/A time=00:04:25.32 bitrate=N/A speed=9.23x    \n",
            "video:4521kB audio:0kB subtitle:0kB other streams:0kB global headers:0kB muxing overhead: unknown\n"
          ]
        }
      ]
    },
    {
      "cell_type": "code",
      "source": [
        "from PIL import Image\n",
        "import os\n",
        "\n",
        "path = '/content/out_tt/'\n",
        "output_path = '/content/combined_4/'\n",
        "\n",
        "files = os.listdir(path)\n",
        "files.sort()\n",
        "\n",
        "\n",
        "for i in range(len(files)):\n",
        "    if i == 0:\n",
        "        continue\n",
        "\n",
        "    img1 = Image.open(path + files[i-1])\n",
        "    img2 = Image.open(path + files[i])\n",
        "\n",
        "    if i < len(files) - 1:\n",
        "        img3 = Image.open(path + files[i+1])\n",
        "        combined_img = Image.new('RGB', (img1.width + img2.width + img3.width, max(img1.height, img2.height, img3.height)))\n",
        "        combined_img.paste(img1, (0, 0))\n",
        "        combined_img.paste(img2, (img1.width, 0))\n",
        "        combined_img.paste(img3, (img1.width + img2.width, 0))\n",
        "    else:\n",
        "        combined_img = Image.new('RGB', (img1.width + img2.width, max(img1.height, img2.height)))\n",
        "        combined_img.paste(img1, (0, 0))\n",
        "        combined_img.paste(img2, (img1.width, 0))\n",
        "\n",
        "    combined_img.save(output_path + files[i])"
      ],
      "metadata": {
        "id": "mEYr_MG6SnHY"
      },
      "execution_count": 59,
      "outputs": []
    },
    {
      "cell_type": "code",
      "source": [
        "test_results = model('/content/combined_4')"
      ],
      "metadata": {
        "colab": {
          "base_uri": "https://localhost:8080/"
        },
        "id": "bIZvC2ouKGZC",
        "outputId": "b68b558d-5544-4a03-9299-26b1c14ccca8"
      },
      "execution_count": 72,
      "outputs": [
        {
          "output_type": "stream",
          "name": "stdout",
          "text": [
            "\n",
            "image 1/93 /content/combined_4/1762.jpg: 640x640 move 0.96, focus 0.02, flash 0.01, overlap 0.01, 61.7ms\n",
            "image 2/93 /content/combined_4/1776.jpg: 640x640 move 0.98, focus 0.01, overlap 0.00, flash 0.00, 61.6ms\n",
            "image 3/93 /content/combined_4/1838.jpg: 640x640 move 0.99, focus 0.01, flash 0.00, overlap 0.00, 61.6ms\n",
            "image 4/93 /content/combined_4/1840.jpg: 640x640 move 1.00, focus 0.00, overlap 0.00, flash 0.00, 61.6ms\n",
            "image 5/93 /content/combined_4/1889.jpg: 640x640 flash 0.75, move 0.22, focus 0.02, overlap 0.01, 61.6ms\n",
            "image 6/93 /content/combined_4/1890.jpg: 640x640 flash 0.78, move 0.21, focus 0.01, overlap 0.00, 61.6ms\n",
            "image 7/93 /content/combined_4/1891.jpg: 640x640 move 0.98, flash 0.01, focus 0.01, overlap 0.00, 61.7ms\n",
            "image 8/93 /content/combined_4/1892.jpg: 640x640 move 1.00, focus 0.00, flash 0.00, overlap 0.00, 61.6ms\n",
            "image 9/93 /content/combined_4/1899.jpg: 640x640 move 1.00, focus 0.00, flash 0.00, overlap 0.00, 61.6ms\n",
            "image 10/93 /content/combined_4/1903.jpg: 640x640 move 1.00, focus 0.00, flash 0.00, overlap 0.00, 61.6ms\n",
            "image 11/93 /content/combined_4/1911.jpg: 640x640 move 1.00, focus 0.00, flash 0.00, overlap 0.00, 61.6ms\n",
            "image 12/93 /content/combined_4/3365.jpg: 640x640 move 1.00, focus 0.00, flash 0.00, overlap 0.00, 61.7ms\n",
            "image 13/93 /content/combined_4/3366.jpg: 640x640 move 1.00, focus 0.00, flash 0.00, overlap 0.00, 61.6ms\n",
            "image 14/93 /content/combined_4/3376.jpg: 640x640 move 1.00, focus 0.00, flash 0.00, overlap 0.00, 61.6ms\n",
            "image 15/93 /content/combined_4/3377.jpg: 640x640 move 1.00, focus 0.00, flash 0.00, overlap 0.00, 61.7ms\n",
            "image 16/93 /content/combined_4/3380.jpg: 640x640 move 1.00, focus 0.00, flash 0.00, overlap 0.00, 61.6ms\n",
            "image 17/93 /content/combined_4/3382.jpg: 640x640 move 1.00, focus 0.00, flash 0.00, overlap 0.00, 61.6ms\n",
            "image 18/93 /content/combined_4/3385.jpg: 640x640 move 1.00, focus 0.00, flash 0.00, overlap 0.00, 61.6ms\n",
            "image 19/93 /content/combined_4/3394.jpg: 640x640 move 1.00, flash 0.00, focus 0.00, overlap 0.00, 61.6ms\n",
            "image 20/93 /content/combined_4/3395.jpg: 640x640 move 1.00, flash 0.00, focus 0.00, overlap 0.00, 61.6ms\n",
            "image 21/93 /content/combined_4/3397.jpg: 640x640 move 1.00, flash 0.00, focus 0.00, overlap 0.00, 61.6ms\n",
            "image 22/93 /content/combined_4/3398.jpg: 640x640 move 1.00, flash 0.00, focus 0.00, overlap 0.00, 61.7ms\n",
            "image 23/93 /content/combined_4/3400.jpg: 640x640 move 1.00, flash 0.00, focus 0.00, overlap 0.00, 61.6ms\n",
            "image 24/93 /content/combined_4/3401.jpg: 640x640 move 1.00, flash 0.00, focus 0.00, overlap 0.00, 61.6ms\n",
            "image 25/93 /content/combined_4/3403.jpg: 640x640 move 1.00, flash 0.00, focus 0.00, overlap 0.00, 61.6ms\n",
            "image 26/93 /content/combined_4/3410.jpg: 640x640 move 0.98, flash 0.02, focus 0.00, overlap 0.00, 61.7ms\n",
            "image 27/93 /content/combined_4/3412.jpg: 640x640 move 0.99, flash 0.01, focus 0.00, overlap 0.00, 61.6ms\n",
            "image 28/93 /content/combined_4/3414.jpg: 640x640 move 0.99, focus 0.00, flash 0.00, overlap 0.00, 61.6ms\n",
            "image 29/93 /content/combined_4/3415.jpg: 640x640 move 0.99, focus 0.00, flash 0.00, overlap 0.00, 61.6ms\n",
            "image 30/93 /content/combined_4/3416.jpg: 640x640 move 0.99, focus 0.00, flash 0.00, overlap 0.00, 61.6ms\n",
            "image 31/93 /content/combined_4/3421.jpg: 640x640 move 1.00, flash 0.00, focus 0.00, overlap 0.00, 61.6ms\n",
            "image 32/93 /content/combined_4/3422.jpg: 640x640 move 1.00, flash 0.00, focus 0.00, overlap 0.00, 61.7ms\n",
            "image 33/93 /content/combined_4/3423.jpg: 640x640 move 1.00, flash 0.00, focus 0.00, overlap 0.00, 61.7ms\n",
            "image 34/93 /content/combined_4/3430.jpg: 640x640 move 0.99, flash 0.00, focus 0.00, overlap 0.00, 61.7ms\n",
            "image 35/93 /content/combined_4/3432.jpg: 640x640 move 1.00, flash 0.00, focus 0.00, overlap 0.00, 61.7ms\n",
            "image 36/93 /content/combined_4/3434.jpg: 640x640 move 1.00, flash 0.00, focus 0.00, overlap 0.00, 61.7ms\n",
            "image 37/93 /content/combined_4/3435.jpg: 640x640 move 1.00, focus 0.00, flash 0.00, overlap 0.00, 61.7ms\n",
            "image 38/93 /content/combined_4/3437.jpg: 640x640 move 1.00, focus 0.00, flash 0.00, overlap 0.00, 61.7ms\n",
            "image 39/93 /content/combined_4/3448.jpg: 640x640 move 1.00, flash 0.00, focus 0.00, overlap 0.00, 61.7ms\n",
            "image 40/93 /content/combined_4/3450.jpg: 640x640 move 1.00, flash 0.00, focus 0.00, overlap 0.00, 61.7ms\n",
            "image 41/93 /content/combined_4/3455.jpg: 640x640 move 1.00, flash 0.00, focus 0.00, overlap 0.00, 61.8ms\n",
            "image 42/93 /content/combined_4/3457.jpg: 640x640 move 0.99, flash 0.01, focus 0.00, overlap 0.00, 61.6ms\n",
            "image 43/93 /content/combined_4/3464.jpg: 640x640 move 1.00, focus 0.00, flash 0.00, overlap 0.00, 61.6ms\n",
            "image 44/93 /content/combined_4/3472.jpg: 640x640 move 1.00, flash 0.00, focus 0.00, overlap 0.00, 61.6ms\n",
            "image 45/93 /content/combined_4/3477.jpg: 640x640 move 1.00, flash 0.00, focus 0.00, overlap 0.00, 61.6ms\n",
            "image 46/93 /content/combined_4/3490.jpg: 640x640 move 1.00, focus 0.00, flash 0.00, overlap 0.00, 61.6ms\n",
            "image 47/93 /content/combined_4/3508.jpg: 640x640 move 1.00, focus 0.00, flash 0.00, overlap 0.00, 61.6ms\n",
            "image 48/93 /content/combined_4/3512.jpg: 640x640 move 1.00, focus 0.00, overlap 0.00, flash 0.00, 61.6ms\n",
            "image 49/93 /content/combined_4/3513.jpg: 640x640 move 1.00, focus 0.00, flash 0.00, overlap 0.00, 61.6ms\n",
            "image 50/93 /content/combined_4/5197.jpg: 640x640 move 1.00, focus 0.00, flash 0.00, overlap 0.00, 61.6ms\n",
            "image 51/93 /content/combined_4/5198.jpg: 640x640 move 1.00, focus 0.00, flash 0.00, overlap 0.00, 61.6ms\n",
            "image 52/93 /content/combined_4/5201.jpg: 640x640 move 0.73, flash 0.18, overlap 0.05, focus 0.04, 61.6ms\n",
            "image 53/93 /content/combined_4/5215.jpg: 640x640 move 0.86, flash 0.11, focus 0.02, overlap 0.01, 61.6ms\n",
            "image 54/93 /content/combined_4/5314.jpg: 640x640 move 1.00, focus 0.00, flash 0.00, overlap 0.00, 61.6ms\n",
            "image 55/93 /content/combined_4/5315.jpg: 640x640 move 1.00, focus 0.00, flash 0.00, overlap 0.00, 61.6ms\n",
            "image 56/93 /content/combined_4/5316.jpg: 640x640 move 0.94, flash 0.06, focus 0.01, overlap 0.00, 61.6ms\n",
            "image 57/93 /content/combined_4/5318.jpg: 640x640 move 0.60, flash 0.37, focus 0.02, overlap 0.01, 61.7ms\n",
            "image 58/93 /content/combined_4/5319.jpg: 640x640 move 0.56, flash 0.40, focus 0.03, overlap 0.01, 61.6ms\n",
            "image 59/93 /content/combined_4/5328.jpg: 640x640 move 0.99, focus 0.00, flash 0.00, overlap 0.00, 61.6ms\n",
            "image 60/93 /content/combined_4/5334.jpg: 640x640 move 1.00, focus 0.00, flash 0.00, overlap 0.00, 61.6ms\n",
            "image 61/93 /content/combined_4/5343.jpg: 640x640 move 1.00, focus 0.00, flash 0.00, overlap 0.00, 61.6ms\n",
            "image 62/93 /content/combined_4/6483.jpg: 640x640 move 1.00, focus 0.00, flash 0.00, overlap 0.00, 61.6ms\n",
            "image 63/93 /content/combined_4/6489.jpg: 640x640 move 1.00, focus 0.00, flash 0.00, overlap 0.00, 62.2ms\n",
            "image 64/93 /content/combined_4/6499.jpg: 640x640 move 1.00, flash 0.00, focus 0.00, overlap 0.00, 61.7ms\n",
            "image 65/93 /content/combined_4/6500.jpg: 640x640 move 1.00, flash 0.00, focus 0.00, overlap 0.00, 61.6ms\n",
            "image 66/93 /content/combined_4/6506.jpg: 640x640 move 0.98, flash 0.01, focus 0.00, overlap 0.00, 61.6ms\n",
            "image 67/93 /content/combined_4/6508.jpg: 640x640 move 0.95, flash 0.04, focus 0.00, overlap 0.00, 61.6ms\n",
            "image 68/93 /content/combined_4/6514.jpg: 640x640 move 0.86, flash 0.13, focus 0.01, overlap 0.00, 61.6ms\n",
            "image 69/93 /content/combined_4/6519.jpg: 640x640 move 0.70, flash 0.29, focus 0.02, overlap 0.00, 61.6ms\n",
            "image 70/93 /content/combined_4/6531.jpg: 640x640 move 1.00, flash 0.00, focus 0.00, overlap 0.00, 61.6ms\n",
            "image 71/93 /content/combined_4/6538.jpg: 640x640 move 1.00, flash 0.00, focus 0.00, overlap 0.00, 61.6ms\n",
            "image 72/93 /content/combined_4/6539.jpg: 640x640 move 1.00, flash 0.00, focus 0.00, overlap 0.00, 61.6ms\n",
            "image 73/93 /content/combined_4/6550.jpg: 640x640 move 1.00, flash 0.00, focus 0.00, overlap 0.00, 61.6ms\n",
            "image 74/93 /content/combined_4/6551.jpg: 640x640 move 1.00, flash 0.00, focus 0.00, overlap 0.00, 61.6ms\n",
            "image 75/93 /content/combined_4/6552.jpg: 640x640 move 1.00, flash 0.00, focus 0.00, overlap 0.00, 61.6ms\n",
            "image 76/93 /content/combined_4/6560.jpg: 640x640 move 1.00, focus 0.00, flash 0.00, overlap 0.00, 61.6ms\n",
            "image 77/93 /content/combined_4/6562.jpg: 640x640 move 1.00, focus 0.00, flash 0.00, overlap 0.00, 61.6ms\n",
            "image 78/93 /content/combined_4/6565.jpg: 640x640 move 1.00, focus 0.00, flash 0.00, overlap 0.00, 61.6ms\n",
            "image 79/93 /content/combined_4/6568.jpg: 640x640 move 1.00, flash 0.00, focus 0.00, overlap 0.00, 61.7ms\n",
            "image 80/93 /content/combined_4/6570.jpg: 640x640 move 1.00, flash 0.00, focus 0.00, overlap 0.00, 61.7ms\n",
            "image 81/93 /content/combined_4/6573.jpg: 640x640 move 1.00, flash 0.00, focus 0.00, overlap 0.00, 61.6ms\n",
            "image 82/93 /content/combined_4/6576.jpg: 640x640 move 1.00, flash 0.00, focus 0.00, overlap 0.00, 61.6ms\n",
            "image 83/93 /content/combined_4/6591.jpg: 640x640 move 1.00, flash 0.00, focus 0.00, overlap 0.00, 61.6ms\n",
            "image 84/93 /content/combined_4/6592.jpg: 640x640 move 1.00, flash 0.00, focus 0.00, overlap 0.00, 61.6ms\n",
            "image 85/93 /content/combined_4/6594.jpg: 640x640 move 1.00, flash 0.00, focus 0.00, overlap 0.00, 61.7ms\n",
            "image 86/93 /content/combined_4/6595.jpg: 640x640 move 1.00, flash 0.00, focus 0.00, overlap 0.00, 61.6ms\n",
            "image 87/93 /content/combined_4/6602.jpg: 640x640 move 1.00, flash 0.00, focus 0.00, overlap 0.00, 61.6ms\n",
            "image 88/93 /content/combined_4/6604.jpg: 640x640 move 1.00, flash 0.00, focus 0.00, overlap 0.00, 61.6ms\n",
            "image 89/93 /content/combined_4/6609.jpg: 640x640 move 1.00, focus 0.00, flash 0.00, overlap 0.00, 61.6ms\n",
            "image 90/93 /content/combined_4/6610.jpg: 640x640 move 1.00, focus 0.00, flash 0.00, overlap 0.00, 61.6ms\n",
            "image 91/93 /content/combined_4/6611.jpg: 640x640 move 1.00, focus 0.00, flash 0.00, overlap 0.00, 61.7ms\n",
            "image 92/93 /content/combined_4/6612.jpg: 640x640 move 1.00, focus 0.00, flash 0.00, overlap 0.00, 61.6ms\n",
            "image 93/93 /content/combined_4/6628.jpg: 640x640 move 1.00, focus 0.00, overlap 0.00, flash 0.00, 61.6ms\n",
            "Speed: 80.9ms preprocess, 61.6ms inference, 0.1ms postprocess per image at shape (1, 3, 640, 640)\n"
          ]
        }
      ]
    },
    {
      "cell_type": "code",
      "source": [
        "start_time = None\n",
        "end_time = None\n",
        "first_anomaly = None\n",
        "prev_time = None\n",
        "i = 0\n",
        "FIN=0\n",
        "with open('/content/time6.txt', 'r') as file:\n",
        "    lines = file.readlines()\n",
        "    current_frame = None\n",
        "    current_score = None\n",
        "    for line in lines:\n",
        "        if line.startswith('frame:'):\n",
        "            current_frame = int(line.split()[0].split(':')[1])\n",
        "            time = float(line.split()[2].split(':')[1])\n",
        "        elif 'lavfi.scene_score=' in line:\n",
        "            current_score = float(line.split('=')[1])\n",
        "            anomaly_type = None\n",
        "            if test_results[i].probs.top1 == 0:\n",
        "                anomaly_type = \"пересвет\"\n",
        "            elif test_results[i].probs.top1 == 1:\n",
        "                anomaly_type = \"расфокус\"\n",
        "            else:\n",
        "                anomaly_type = \"перекрытие\"\n",
        "            i += 1\n",
        "            if FIN == 1 :\n",
        "              end_time = time\n",
        "              print(f'Название первой аномалии: {first_anomaly}, Время старта: {start_time}, Время финиша: {end_time}\\n')\n",
        "              start_time = None\n",
        "              end_time = None\n",
        "              first_anomaly = None\n",
        "              FIN=0\n",
        "            else:\n",
        "              if current_score > 0.1:\n",
        "                  if start_time is None:\n",
        "                      start_time = time\n",
        "                      first_anomaly = anomaly_type\n",
        "                      prev_time = time\n",
        "                  if time - prev_time < 1:\n",
        "                    prev_time = time\n",
        "                    continue\n",
        "                  elif time - prev_time > 1:\n",
        "                      FIN = 1\n",
        "                      prev_time = time\n",
        "\n",
        "\n"
      ],
      "metadata": {
        "colab": {
          "base_uri": "https://localhost:8080/"
        },
        "id": "YnJv8LO3OKkm",
        "outputId": "7fb2216b-701e-4f39-e47a-3be889bd1f11"
      },
      "execution_count": 91,
      "outputs": [
        {
          "output_type": "stream",
          "name": "stdout",
          "text": [
            "Название первой аномалии: перекрытие, Время старта: 70.0, Время финиша: 75.64\n",
            "\n",
            "Название первой аномалии: перекрытие, Время старта: 134.6, Время финиша: 139.08\n",
            "\n",
            "Название первой аномалии: перекрытие, Время старта: 207.88, Время финиша: 212.6\n",
            "\n",
            "Название первой аномалии: перекрытие, Время старта: 259.96, Время финиша: 263.68\n",
            "\n"
          ]
        }
      ]
    }
  ]
}